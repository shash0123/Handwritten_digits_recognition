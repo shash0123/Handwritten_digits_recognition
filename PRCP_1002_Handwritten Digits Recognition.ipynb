{
 "cells": [
  {
   "cell_type": "markdown",
   "metadata": {
    "id": "Jn6r0gVRnW0b"
   },
   "source": [
    "## **Team ID:PTID-CDS-FEB-24-1815**"
   ]
  },
  {
   "cell_type": "markdown",
   "metadata": {
    "id": "G1bZ-8Xjndg3"
   },
   "source": [
    "# **PRCP-1002-Handwritten Digits Recognition**"
   ]
  },
  {
   "cell_type": "markdown",
   "metadata": {
    "id": "IomPIt3kVXzd"
   },
   "source": [
    "\n",
    "\n",
    "*  A digit recognition system is a type of technology that can automatically identify and classify numerical characters, typically from 0 to 9. These systems are most commonly used to interpret handwritten digits,\n",
    "*   Digit recognition system is the working of a machine to train itself or recognizing the digits from different sources like emails, bank cheque,\n",
    "papers, images, etc.\n",
    "\n",
    "*   In different real-world scenarios for online handwriting recognition on computer tablets or system, recognize number\n",
    "plates of vehicles, processing bank cheque amounts, numeric entries in forms filled up by hand (say — tax forms) and so on\n",
    "\n",
    "\n",
    "*   Here's a breakdown of how digit recognition systems work:\n",
    "\n",
    "**Data Preprocessing**: The system takes an image of a digit as input. This image is then preprocessed to ensure consistency. Preprocessing may involve steps like resizing the image, converting it to grayscale, and thinning lines.\n",
    "\n",
    "**Feature Extraction**: Key characteristics of the digit image are extracted. These features could be things like the distribution of black pixels, the number of endpoints (ends of lines), or the overall shape of the digit.\n",
    "\n",
    "**Classification**: The extracted features are fed into a machine learning model that has been trained to recognize digits. Common algorithms used for digit recognition include K-nearest neighbors and convolutional neural networks (CNNs). CNNs are particularly effective due to their ability to learn complex patterns from data.\n",
    "\n",
    "**Output**: The model outputs the most likely digit based on the extracted features.\n",
    "\n",
    "\n",
    "\n",
    "\n",
    "\n",
    "\n",
    "\n",
    "\n",
    "\n",
    "\n",
    "\n"
   ]
  },
  {
   "cell_type": "markdown",
   "metadata": {
    "id": "7SHwUk5rTNKI"
   },
   "source": [
    "**Problems with handwritten digits**\n",
    "\n",
    "The handwritten digits are not always of the same size, width, orientation and justified to margins as they differ from writing of person to\n",
    "person, so the general problem would be while classifying the digits due to the similarity between digits such as 1 and 7, 5 and 6, 3 and 8, 2 and\n",
    "5, 2 and 7, etc.\n",
    "\n",
    "This problem is faced more when many people write a single digit with a variety of different handwritings. Lastly, the uniqueness and variety in the handwriting of different individuals also influence the formation and appearance of the digits.\n",
    "\n",
    "Now we introduce the concepts and algorithms of deep learning and machine learning.\n",
    "\n",
    "The provided Handwritten digits are images in the form of 28*28 gray scale intensities of images representing an image along with the first\n",
    "column to be a label (0 to 9) for every image."
   ]
  },
  {
   "cell_type": "markdown",
   "metadata": {
    "id": "MPhzEGN7Ureq"
   },
   "source": [
    "# Loading Neccessary Libraries"
   ]
  },
  {
   "cell_type": "code",
   "execution_count": 1,
   "metadata": {
    "executionInfo": {
     "elapsed": 1,
     "status": "ok",
     "timestamp": 1710425502190,
     "user": {
      "displayName": "Bulliraju Ganta",
      "userId": "04516403868490371873"
     },
     "user_tz": -330
    },
    "id": "jo0swnvEz6Up"
   },
   "outputs": [],
   "source": [
    "import warnings\n",
    "warnings.filterwarnings(\"ignore\") "
   ]
  },
  {
   "cell_type": "code",
   "execution_count": 2,
   "metadata": {
    "colab": {
     "base_uri": "https://localhost:8080/"
    },
    "executionInfo": {
     "elapsed": 19230,
     "status": "ok",
     "timestamp": 1710425523476,
     "user": {
      "displayName": "Bulliraju Ganta",
      "userId": "04516403868490371873"
     },
     "user_tz": -330
    },
    "id": "N_EKTICpavrz",
    "outputId": "b63123da-c25d-4843-c759-cad8c8e90218"
   },
   "outputs": [
    {
     "name": "stdout",
     "output_type": "stream",
     "text": [
      "Requirement already satisfied: wrapt in /usr/local/lib/python3.10/dist-packages (1.14.1)\n"
     ]
    }
   ],
   "source": [
    "pip install wrapt "
   ]
  },
  {
   "cell_type": "code",
   "execution_count": 3,
   "metadata": {
    "executionInfo": {
     "elapsed": 6763,
     "status": "ok",
     "timestamp": 1710425581650,
     "user": {
      "displayName": "Bulliraju Ganta",
      "userId": "04516403868490371873"
     },
     "user_tz": -330
    },
    "id": "h5Xc2ZNTa5E_"
   },
   "outputs": [],
   "source": [
    "import matplotlib.pyplot as plt\n",
    "import seaborn as sns\n",
    "from tensorflow.keras.datasets import mnist\n",
    "from sklearn.neighbors import KNeighborsClassifier\n",
    "from sklearn.metrics import accuracy_score\n",
    "from sklearn.ensemble import GradientBoostingClassifier\n",
    "from sklearn.ensemble import RandomForestClassifier\n",
    "from sklearn.tree import DecisionTreeClassifier\n",
    "from sklearn import preprocessing\n",
    "import numpy as np\n",
    "import pandas as pd\n",
    "import tensorflow as tf\n",
    "from tensorflow.keras.datasets import mnist\n",
    "from sklearn.svm import SVC\n",
    "from google.colab.patches import cv2_imshow\n",
    "import os,cv2,json,random\n",
    "from tensorflow import keras\n",
    "from tensorflow.keras import layers\n",
    "from sklearn.metrics import precision_score,recall_score,f1_score,roc_auc_score "
   ]
  },
  {
   "cell_type": "code",
   "execution_count": 4,
   "metadata": {
    "executionInfo": {
     "elapsed": 529,
     "status": "ok",
     "timestamp": 1710425583703,
     "user": {
      "displayName": "Bulliraju Ganta",
      "userId": "04516403868490371873"
     },
     "user_tz": -330
    },
    "id": "K9Mwm0H2a9UJ"
   },
   "outputs": [],
   "source": [
    "mnist = tf.keras.datasets.mnist "
   ]
  },
  {
   "cell_type": "markdown",
   "metadata": {
    "id": "rFN6QMvkUwPJ"
   },
   "source": [
    "# Loading Data"
   ]
  },
  {
   "cell_type": "code",
   "execution_count": 5,
   "metadata": {
    "colab": {
     "base_uri": "https://localhost:8080/"
    },
    "executionInfo": {
     "elapsed": 988,
     "status": "ok",
     "timestamp": 1710425604641,
     "user": {
      "displayName": "Bulliraju Ganta",
      "userId": "04516403868490371873"
     },
     "user_tz": -330
    },
    "id": "HxJFLev30O_o",
    "outputId": "6ff15223-1d08-46a1-b461-c5b72daab36f"
   },
   "outputs": [
    {
     "name": "stdout",
     "output_type": "stream",
     "text": [
      "Downloading data from https://storage.googleapis.com/tensorflow/tf-keras-datasets/mnist.npz\n",
      "11490434/11490434 [==============================] - 0s 0us/step\n"
     ]
    }
   ],
   "source": [
    "(X_train, y_train), (X_test, y_test) = mnist.load_data() "
   ]
  },
  {
   "cell_type": "code",
   "execution_count": 6,
   "metadata": {
    "colab": {
     "base_uri": "https://localhost:8080/"
    },
    "executionInfo": {
     "elapsed": 367,
     "status": "ok",
     "timestamp": 1710425611699,
     "user": {
      "displayName": "Bulliraju Ganta",
      "userId": "04516403868490371873"
     },
     "user_tz": -330
    },
    "id": "fWvPdEN_pSB5",
    "outputId": "0d5f0fb0-5695-4a07-dfc7-3176fe1d2dfe"
   },
   "outputs": [
    {
     "data": {
      "text/plain": [
       "<module 'keras.api._v2.keras.datasets.mnist' from '/usr/local/lib/python3.10/dist-packages/keras/api/_v2/keras/datasets/mnist/__init__.py'>"
      ]
     },
     "execution_count": 6,
     "metadata": {},
     "output_type": "execute_result"
    }
   ],
   "source": [
    "mnist "
   ]
  },
  {
   "cell_type": "code",
   "execution_count": 7,
   "metadata": {
    "colab": {
     "base_uri": "https://localhost:8080/"
    },
    "executionInfo": {
     "elapsed": 411,
     "status": "ok",
     "timestamp": 1710425614507,
     "user": {
      "displayName": "Bulliraju Ganta",
      "userId": "04516403868490371873"
     },
     "user_tz": -330
    },
    "id": "dA-Yt9Ou0-Dp",
    "outputId": "c775669e-57e3-4505-ad08-afac6e010842"
   },
   "outputs": [
    {
     "name": "stdout",
     "output_type": "stream",
     "text": [
      "shape of training data : (60000, 28, 28)\n",
      "shape of training lable : (60000,)\n",
      "shape of testing data : (10000, 28, 28)\n",
      "shape of testing lable : (10000,)\n"
     ]
    }
   ],
   "source": [
    "# Cheking dataset dimension\n",
    "print('shape of training data :',X_train.shape)\n",
    "print('shape of training lable :',y_train.shape)\n",
    "print('shape of testing data :',X_test.shape)\n",
    "print('shape of testing lable :',y_test.shape) "
   ]
  },
  {
   "cell_type": "markdown",
   "metadata": {
    "id": "P7-WIZmMIJLQ"
   },
   "source": [
    "The term \"dimension\" refers to the shape or size of the datasets being analyzed. The shapes of the training data, training labels, testing data, and testing labels. This allows us to see the number of samples and features in the dataset."
   ]
  },
  {
   "cell_type": "code",
   "execution_count": 8,
   "metadata": {
    "colab": {
     "base_uri": "https://localhost:8080/"
    },
    "executionInfo": {
     "elapsed": 2,
     "status": "ok",
     "timestamp": 1710425617969,
     "user": {
      "displayName": "Bulliraju Ganta",
      "userId": "04516403868490371873"
     },
     "user_tz": -330
    },
    "id": "XKXF94pPdigK",
    "outputId": "067103ec-8388-4267-c5cc-1ae47f3bb84d"
   },
   "outputs": [
    {
     "data": {
      "text/plain": [
       "array([[[0, 0, 0, ..., 0, 0, 0],\n",
       "        [0, 0, 0, ..., 0, 0, 0],\n",
       "        [0, 0, 0, ..., 0, 0, 0],\n",
       "        ...,\n",
       "        [0, 0, 0, ..., 0, 0, 0],\n",
       "        [0, 0, 0, ..., 0, 0, 0],\n",
       "        [0, 0, 0, ..., 0, 0, 0]],\n",
       "\n",
       "       [[0, 0, 0, ..., 0, 0, 0],\n",
       "        [0, 0, 0, ..., 0, 0, 0],\n",
       "        [0, 0, 0, ..., 0, 0, 0],\n",
       "        ...,\n",
       "        [0, 0, 0, ..., 0, 0, 0],\n",
       "        [0, 0, 0, ..., 0, 0, 0],\n",
       "        [0, 0, 0, ..., 0, 0, 0]],\n",
       "\n",
       "       [[0, 0, 0, ..., 0, 0, 0],\n",
       "        [0, 0, 0, ..., 0, 0, 0],\n",
       "        [0, 0, 0, ..., 0, 0, 0],\n",
       "        ...,\n",
       "        [0, 0, 0, ..., 0, 0, 0],\n",
       "        [0, 0, 0, ..., 0, 0, 0],\n",
       "        [0, 0, 0, ..., 0, 0, 0]],\n",
       "\n",
       "       ...,\n",
       "\n",
       "       [[0, 0, 0, ..., 0, 0, 0],\n",
       "        [0, 0, 0, ..., 0, 0, 0],\n",
       "        [0, 0, 0, ..., 0, 0, 0],\n",
       "        ...,\n",
       "        [0, 0, 0, ..., 0, 0, 0],\n",
       "        [0, 0, 0, ..., 0, 0, 0],\n",
       "        [0, 0, 0, ..., 0, 0, 0]],\n",
       "\n",
       "       [[0, 0, 0, ..., 0, 0, 0],\n",
       "        [0, 0, 0, ..., 0, 0, 0],\n",
       "        [0, 0, 0, ..., 0, 0, 0],\n",
       "        ...,\n",
       "        [0, 0, 0, ..., 0, 0, 0],\n",
       "        [0, 0, 0, ..., 0, 0, 0],\n",
       "        [0, 0, 0, ..., 0, 0, 0]],\n",
       "\n",
       "       [[0, 0, 0, ..., 0, 0, 0],\n",
       "        [0, 0, 0, ..., 0, 0, 0],\n",
       "        [0, 0, 0, ..., 0, 0, 0],\n",
       "        ...,\n",
       "        [0, 0, 0, ..., 0, 0, 0],\n",
       "        [0, 0, 0, ..., 0, 0, 0],\n",
       "        [0, 0, 0, ..., 0, 0, 0]]], dtype=uint8)"
      ]
     },
     "execution_count": 8,
     "metadata": {},
     "output_type": "execute_result"
    }
   ],
   "source": [
    "X_train "
   ]
  },
  {
   "cell_type": "code",
   "execution_count": 9,
   "metadata": {
    "colab": {
     "base_uri": "https://localhost:8080/"
    },
    "executionInfo": {
     "elapsed": 2,
     "status": "ok",
     "timestamp": 1710425619839,
     "user": {
      "displayName": "Bulliraju Ganta",
      "userId": "04516403868490371873"
     },
     "user_tz": -330
    },
    "id": "TQPA5alppdFk",
    "outputId": "3ad10bed-182a-4069-8051-d04e7b4cf3a2"
   },
   "outputs": [
    {
     "data": {
      "text/plain": [
       "array([5, 0, 4, ..., 5, 6, 8], dtype=uint8)"
      ]
     },
     "execution_count": 9,
     "metadata": {},
     "output_type": "execute_result"
    }
   ],
   "source": [
    "y_train"
   ]
  },
  {
   "cell_type": "code",
   "execution_count": 10,
   "metadata": {
    "colab": {
     "base_uri": "https://localhost:8080/"
    },
    "executionInfo": {
     "elapsed": 2,
     "status": "ok",
     "timestamp": 1710425620348,
     "user": {
      "displayName": "Bulliraju Ganta",
      "userId": "04516403868490371873"
     },
     "user_tz": -330
    },
    "id": "IDux3LevHjqy",
    "outputId": "c430f852-5a03-400c-e856-673e5d716130"
   },
   "outputs": [
    {
     "data": {
      "text/plain": [
       "array([[[0, 0, 0, ..., 0, 0, 0],\n",
       "        [0, 0, 0, ..., 0, 0, 0],\n",
       "        [0, 0, 0, ..., 0, 0, 0],\n",
       "        ...,\n",
       "        [0, 0, 0, ..., 0, 0, 0],\n",
       "        [0, 0, 0, ..., 0, 0, 0],\n",
       "        [0, 0, 0, ..., 0, 0, 0]],\n",
       "\n",
       "       [[0, 0, 0, ..., 0, 0, 0],\n",
       "        [0, 0, 0, ..., 0, 0, 0],\n",
       "        [0, 0, 0, ..., 0, 0, 0],\n",
       "        ...,\n",
       "        [0, 0, 0, ..., 0, 0, 0],\n",
       "        [0, 0, 0, ..., 0, 0, 0],\n",
       "        [0, 0, 0, ..., 0, 0, 0]],\n",
       "\n",
       "       [[0, 0, 0, ..., 0, 0, 0],\n",
       "        [0, 0, 0, ..., 0, 0, 0],\n",
       "        [0, 0, 0, ..., 0, 0, 0],\n",
       "        ...,\n",
       "        [0, 0, 0, ..., 0, 0, 0],\n",
       "        [0, 0, 0, ..., 0, 0, 0],\n",
       "        [0, 0, 0, ..., 0, 0, 0]],\n",
       "\n",
       "       ...,\n",
       "\n",
       "       [[0, 0, 0, ..., 0, 0, 0],\n",
       "        [0, 0, 0, ..., 0, 0, 0],\n",
       "        [0, 0, 0, ..., 0, 0, 0],\n",
       "        ...,\n",
       "        [0, 0, 0, ..., 0, 0, 0],\n",
       "        [0, 0, 0, ..., 0, 0, 0],\n",
       "        [0, 0, 0, ..., 0, 0, 0]],\n",
       "\n",
       "       [[0, 0, 0, ..., 0, 0, 0],\n",
       "        [0, 0, 0, ..., 0, 0, 0],\n",
       "        [0, 0, 0, ..., 0, 0, 0],\n",
       "        ...,\n",
       "        [0, 0, 0, ..., 0, 0, 0],\n",
       "        [0, 0, 0, ..., 0, 0, 0],\n",
       "        [0, 0, 0, ..., 0, 0, 0]],\n",
       "\n",
       "       [[0, 0, 0, ..., 0, 0, 0],\n",
       "        [0, 0, 0, ..., 0, 0, 0],\n",
       "        [0, 0, 0, ..., 0, 0, 0],\n",
       "        ...,\n",
       "        [0, 0, 0, ..., 0, 0, 0],\n",
       "        [0, 0, 0, ..., 0, 0, 0],\n",
       "        [0, 0, 0, ..., 0, 0, 0]]], dtype=uint8)"
      ]
     },
     "execution_count": 10,
     "metadata": {},
     "output_type": "execute_result"
    }
   ],
   "source": [
    "X_test "
   ]
  },
  {
   "cell_type": "code",
   "execution_count": 11,
   "metadata": {
    "colab": {
     "base_uri": "https://localhost:8080/"
    },
    "executionInfo": {
     "elapsed": 2,
     "status": "ok",
     "timestamp": 1710425620712,
     "user": {
      "displayName": "Bulliraju Ganta",
      "userId": "04516403868490371873"
     },
     "user_tz": -330
    },
    "id": "BLG5DBkdze7R",
    "outputId": "968ccdb9-6bc3-4c05-dc39-471d949a8fc6"
   },
   "outputs": [
    {
     "data": {
      "text/plain": [
       "array([7, 2, 1, ..., 4, 5, 6], dtype=uint8)"
      ]
     },
     "execution_count": 11,
     "metadata": {},
     "output_type": "execute_result"
    }
   ],
   "source": [
    "y_test "
   ]
  },
  {
   "cell_type": "markdown",
   "metadata": {
    "id": "NJDlGFORIPBl"
   },
   "source": [
    "# Data preprocessing"
   ]
  },
  {
   "cell_type": "markdown",
   "metadata": {
    "id": "ESMHjYfZIOyx"
   },
   "source": [
    "**EDA**"
   ]
  },
  {
   "cell_type": "code",
   "execution_count": 12,
   "metadata": {
    "colab": {
     "base_uri": "https://localhost:8080/",
     "height": 430
    },
    "executionInfo": {
     "elapsed": 3,
     "status": "ok",
     "timestamp": 1710425623836,
     "user": {
      "displayName": "Bulliraju Ganta",
      "userId": "04516403868490371873"
     },
     "user_tz": -330
    },
    "id": "bmbQFNkPIN_N",
    "outputId": "873cd25e-d00d-460b-eafc-f1486975e7e2"
   },
   "outputs": [
    {
     "data": {
      "image/png": "[encoded data removed]",
      "text/plain": [
       "<Figure size 640x480 with 1 Axes>"
      ]
     },
     "metadata": {},
     "output_type": "display_data"
    }
   ],
   "source": [
    "# To Check the first image of the dataset\n",
    "plt.imshow(X_train[0],cmap= 'gray')\n",
    "plt.show() "
   ]
  },
  {
   "cell_type": "markdown",
   "metadata": {
    "id": "Lrn3JJC-Iyik"
   },
   "source": [
    "The term \"dimension\" refers to the shape or size of the datasets being analyzed. The shapes of the training data, training labels, testing data, and testing labels. This allows us to see the number of samples and features in the dataset."
   ]
  },
  {
   "cell_type": "code",
   "execution_count": 13,
   "metadata": {
    "colab": {
     "base_uri": "https://localhost:8080/"
    },
    "executionInfo": {
     "elapsed": 717,
     "status": "ok",
     "timestamp": 1710425631301,
     "user": {
      "displayName": "Bulliraju Ganta",
      "userId": "04516403868490371873"
     },
     "user_tz": -330
    },
    "id": "ByDnXUO7INwu",
    "outputId": "670e971f-efcd-4bf3-f398-a5dff2f58fee"
   },
   "outputs": [
    {
     "name": "stdout",
     "output_type": "stream",
     "text": [
      "[[  0   0   0   0   0   0   0   0   0   0   0   0   0   0   0   0   0   0\n",
      "    0   0   0   0   0   0   0   0   0   0]\n",
      " [  0   0   0   0   0   0   0   0   0   0   0   0   0   0   0   0   0   0\n",
      "    0   0   0   0   0   0   0   0   0   0]\n",
      " [  0   0   0   0   0   0   0   0   0   0   0   0   0   0   0   0   0   0\n",
      "    0   0   0   0   0   0   0   0   0   0]\n",
      " [  0   0   0   0   0   0   0   0   0   0   0   0   0   0   0   0   0   0\n",
      "    0   0   0   0   0   0   0   0   0   0]\n",
      " [  0   0   0   0   0   0   0   0   0   0   0   0   0   0   0   0   0   0\n",
      "    0   0   0   0   0   0   0   0   0   0]\n",
      " [  0   0   0   0   0   0   0   0   0   0   0   0   3  18  18  18 126 136\n",
      "  175  26 166 255 247 127   0   0   0   0]\n",
      " [  0   0   0   0   0   0   0   0  30  36  94 154 170 253 253 253 253 253\n",
      "  225 172 253 242 195  64   0   0   0   0]\n",
      " [  0   0   0   0   0   0   0  49 238 253 253 253 253 253 253 253 253 251\n",
      "   93  82  82  56  39   0   0   0   0   0]\n",
      " [  0   0   0   0   0   0   0  18 219 253 253 253 253 253 198 182 247 241\n",
      "    0   0   0   0   0   0   0   0   0   0]\n",
      " [  0   0   0   0   0   0   0   0  80 156 107 253 253 205  11   0  43 154\n",
      "    0   0   0   0   0   0   0   0   0   0]\n",
      " [  0   0   0   0   0   0   0   0   0  14   1 154 253  90   0   0   0   0\n",
      "    0   0   0   0   0   0   0   0   0   0]\n",
      " [  0   0   0   0   0   0   0   0   0   0   0 139 253 190   2   0   0   0\n",
      "    0   0   0   0   0   0   0   0   0   0]\n",
      " [  0   0   0   0   0   0   0   0   0   0   0  11 190 253  70   0   0   0\n",
      "    0   0   0   0   0   0   0   0   0   0]\n",
      " [  0   0   0   0   0   0   0   0   0   0   0   0  35 241 225 160 108   1\n",
      "    0   0   0   0   0   0   0   0   0   0]\n",
      " [  0   0   0   0   0   0   0   0   0   0   0   0   0  81 240 253 253 119\n",
      "   25   0   0   0   0   0   0   0   0   0]\n",
      " [  0   0   0   0   0   0   0   0   0   0   0   0   0   0  45 186 253 253\n",
      "  150  27   0   0   0   0   0   0   0   0]\n",
      " [  0   0   0   0   0   0   0   0   0   0   0   0   0   0   0  16  93 252\n",
      "  253 187   0   0   0   0   0   0   0   0]\n",
      " [  0   0   0   0   0   0   0   0   0   0   0   0   0   0   0   0   0 249\n",
      "  253 249  64   0   0   0   0   0   0   0]\n",
      " [  0   0   0   0   0   0   0   0   0   0   0   0   0   0  46 130 183 253\n",
      "  253 207   2   0   0   0   0   0   0   0]\n",
      " [  0   0   0   0   0   0   0   0   0   0   0   0  39 148 229 253 253 253\n",
      "  250 182   0   0   0   0   0   0   0   0]\n",
      " [  0   0   0   0   0   0   0   0   0   0  24 114 221 253 253 253 253 201\n",
      "   78   0   0   0   0   0   0   0   0   0]\n",
      " [  0   0   0   0   0   0   0   0  23  66 213 253 253 253 253 198  81   2\n",
      "    0   0   0   0   0   0   0   0   0   0]\n",
      " [  0   0   0   0   0   0  18 171 219 253 253 253 253 195  80   9   0   0\n",
      "    0   0   0   0   0   0   0   0   0   0]\n",
      " [  0   0   0   0  55 172 226 253 253 253 253 244 133  11   0   0   0   0\n",
      "    0   0   0   0   0   0   0   0   0   0]\n",
      " [  0   0   0   0 136 253 253 253 212 135 132  16   0   0   0   0   0   0\n",
      "    0   0   0   0   0   0   0   0   0   0]\n",
      " [  0   0   0   0   0   0   0   0   0   0   0   0   0   0   0   0   0   0\n",
      "    0   0   0   0   0   0   0   0   0   0]\n",
      " [  0   0   0   0   0   0   0   0   0   0   0   0   0   0   0   0   0   0\n",
      "    0   0   0   0   0   0   0   0   0   0]\n",
      " [  0   0   0   0   0   0   0   0   0   0   0   0   0   0   0   0   0   0\n",
      "    0   0   0   0   0   0   0   0   0   0]]\n"
     ]
    }
   ],
   "source": [
    "# The value of each pixel\n",
    "print(X_train[0]) "
   ]
  },
  {
   "cell_type": "code",
   "execution_count": 15,
   "metadata": {
    "colab": {
     "base_uri": "https://localhost:8080/",
     "height": 410
    },
    "executionInfo": {
     "elapsed": 947,
     "status": "ok",
     "timestamp": 1710425635529,
     "user": {
      "displayName": "Bulliraju Ganta",
      "userId": "04516403868490371873"
     },
     "user_tz": -330
    },
    "id": "MI6PgEWOI_Ju",
    "outputId": "9d3d8090-e62b-4e37-efc0-0039dbe1393a"
   },
   "outputs": [
    {
     "data": {
      "image/png": "[encoded data removed]",
      "text/plain": [
       "<Figure size 1000x400 with 10 Axes>"
      ]
     },
     "metadata": {},
     "output_type": "display_data"
    }
   ],
   "source": [
    "# Visualize sample digits\n",
    "fig, axes = plt.subplots(2, 5, figsize=(10, 4))\n",
    "axes = axes.ravel()\n",
    "\n",
    "for i in range(10):\n",
    "    axes[i].imshow(X_train[i], cmap='gray')\n",
    "    axes[i].set_title('Label: {}'.format(y_train[i]))\n",
    "    axes[i].axis('off')\n",
    "\n",
    "plt.tight_layout()\n",
    "plt.show() "
   ]
  },
  {
   "cell_type": "markdown",
   "metadata": {
    "id": "OZQ1MpLuJ-yy"
   },
   "source": [
    "Here in above code we have variable \"axes\" it is used to access each individual subplot within the grid. By using \"axes.ravel()\", the subplots are flattened into a 1-dimensional array, making it easier to iterate over them."
   ]
  },
  {
   "cell_type": "markdown",
   "metadata": {
    "id": "oJ40-gYEKCSM"
   },
   "source": [
    " Mean while the grid of subplots and displays the first 10 images from the x_train dataset on these subplots. Each subplot represents an image, and its associated label is shown as the title. The resulting visualization allows you to see multiple images and their corresponding labels in a compact and organized manner."
   ]
  },
  {
   "cell_type": "markdown",
   "metadata": {
    "id": "J7ydLaiCKIVK"
   },
   "source": [
    "# Distribution of digits"
   ]
  },
  {
   "cell_type": "code",
   "execution_count": 16,
   "metadata": {
    "colab": {
     "base_uri": "https://localhost:8080/",
     "height": 472
    },
    "executionInfo": {
     "elapsed": 3,
     "status": "ok",
     "timestamp": 1710425638255,
     "user": {
      "displayName": "Bulliraju Ganta",
      "userId": "04516403868490371873"
     },
     "user_tz": -330
    },
    "id": "k88s00VqI_E9",
    "outputId": "f4da138c-51ad-4b5e-af2d-f03d526f5735"
   },
   "outputs": [
    {
     "data": {
      "image/png": "[encoded data removed]",
      "text/plain": [
       "<Figure size 640x480 with 1 Axes>"
      ]
     },
     "metadata": {},
     "output_type": "display_data"
    }
   ],
   "source": [
    "digit_counts = np.bincount(y_train)\n",
    "digits = np.arange(10)\n",
    "plt.bar(digits, digit_counts)\n",
    "plt.xlabel('Digit')\n",
    "plt.ylabel('Count')\n",
    "plt.title('Distribution of Digits')\n",
    "plt.xticks(digits)\n",
    "plt.show() "
   ]
  },
  {
   "cell_type": "markdown",
   "metadata": {
    "id": "zYi9jdS9KdJF"
   },
   "source": [
    "This above code counts the occurrences of each digit in the training labels and visualizes the distribution using a bar chart. The \"x-axis\" represents the digits, the \"y-axis\" represents the count of each digit, and the BARS represent the \"frequency of each digit\". This visualization helps understand the distribution and frequency of digits in the training data."
   ]
  },
  {
   "cell_type": "code",
   "execution_count": 17,
   "metadata": {
    "colab": {
     "base_uri": "https://localhost:8080/",
     "height": 472
    },
    "executionInfo": {
     "elapsed": 1854,
     "status": "ok",
     "timestamp": 1710425641338,
     "user": {
      "displayName": "Bulliraju Ganta",
      "userId": "04516403868490371873"
     },
     "user_tz": -330
    },
    "id": "9H0_T8EbKfwZ",
    "outputId": "b0f27080-68a1-4e9f-b3f2-01aafea193fe"
   },
   "outputs": [
    {
     "data": {
      "image/png": "[encoded data removed]",
      "text/plain": [
       "<Figure size 640x480 with 1 Axes>"
      ]
     },
     "metadata": {},
     "output_type": "display_data"
    }
   ],
   "source": [
    "# Pixel intensity analysis\n",
    "pixel_means = np.mean(X_train, axis=(0, 1))\n",
    "pixel_stds = np.std(X_train, axis=(0,1))\n",
    "\n",
    "plt.plot(range(28), pixel_means, label='Mean')\n",
    "plt.plot(range(28), pixel_stds, label='Standard Deviation')\n",
    "plt.xlabel('Pixel')\n",
    "plt.ylabel('Intensity')\n",
    "plt.title('Pixel Intensity Analysis')\n",
    "plt.legend()\n",
    "plt.show() "
   ]
  },
  {
   "cell_type": "markdown",
   "metadata": {
    "id": "DkOWVowjK-gx"
   },
   "source": [
    "The mean and standard deviation of pixel intensities in the x_train dataset and visualizes them using a line plot. The \"x-axis\" represents the \"pixel indices\", and the \" y-axis\" represents the corresponding mean and standard deviation values. This visualization provides insights into the overall intensity distribution and variation of pixels in the data"
   ]
  },
  {
   "cell_type": "markdown",
   "metadata": {
    "id": "tLEt2lU4LCZm"
   },
   "source": [
    "# MODEL EVALUATION"
   ]
  },
  {
   "cell_type": "markdown",
   "metadata": {
    "id": "CXcP1dWqLCMW"
   },
   "source": [
    "To find wich algorithm is best fit for test the dataset model"
   ]
  },
  {
   "cell_type": "code",
   "execution_count": 18,
   "metadata": {
    "colab": {
     "base_uri": "https://localhost:8080/"
    },
    "executionInfo": {
     "elapsed": 6577,
     "status": "ok",
     "timestamp": 1710425652817,
     "user": {
      "displayName": "Bulliraju Ganta",
      "userId": "04516403868490371873"
     },
     "user_tz": -330
    },
    "id": "tOx7f2MvKftG",
    "outputId": "defd1de6-970c-433a-e33c-4dae6b8dee05"
   },
   "outputs": [
    {
     "name": "stdout",
     "output_type": "stream",
     "text": [
      "Requirement already satisfied: scikit-learn in /usr/local/lib/python3.10/dist-packages (1.2.2)\n",
      "Requirement already satisfied: numpy>=1.17.3 in /usr/local/lib/python3.10/dist-packages (from scikit-learn) (1.25.2)\n",
      "Requirement already satisfied: scipy>=1.3.2 in /usr/local/lib/python3.10/dist-packages (from scikit-learn) (1.11.4)\n",
      "Requirement already satisfied: joblib>=1.1.1 in /usr/local/lib/python3.10/dist-packages (from scikit-learn) (1.3.2)\n",
      "Requirement already satisfied: threadpoolctl>=2.0.0 in /usr/local/lib/python3.10/dist-packages (from scikit-learn) (3.3.0)\n"
     ]
    }
   ],
   "source": [
    "pip install scikit-learn"
   ]
  },
  {
   "cell_type": "code",
   "execution_count": 19,
   "metadata": {
    "executionInfo": {
     "elapsed": 4,
     "status": "ok",
     "timestamp": 1710425652817,
     "user": {
      "displayName": "Bulliraju Ganta",
      "userId": "04516403868490371873"
     },
     "user_tz": -330
    },
    "id": "neLO_pDVLqjx"
   },
   "outputs": [],
   "source": [
    "# Reshape the input data\n",
    "num_samples_train, height, width = X_train.shape\n",
    "num_samples_test = X_test.shape[0]\n",
    "\n",
    "X_train_2d = np.reshape(X_train, (num_samples_train, height * width))\n",
    "X_test_2d = np.reshape(X_test, (num_samples_test, height * width)) "
   ]
  },
  {
   "cell_type": "markdown",
   "metadata": {
    "id": "76keByyUL-lQ"
   },
   "source": [
    "# Support Vector Machine(SVM)"
   ]
  },
  {
   "cell_type": "code",
   "execution_count": 20,
   "metadata": {
    "colab": {
     "base_uri": "https://localhost:8080/",
     "height": 74
    },
    "executionInfo": {
     "elapsed": 300748,
     "status": "ok",
     "timestamp": 1710425953562,
     "user": {
      "displayName": "Bulliraju Ganta",
      "userId": "04516403868490371873"
     },
     "user_tz": -330
    },
    "id": "KYcTUtG9OixK",
    "outputId": "8fe5e65f-01a4-4794-85d7-60d8dd72f381"
   },
   "outputs": [
    {
     "data": {
      "text/html": [
       "<style>#sk-container-id-1 {color: black;background-color: white;}#sk-container-id-1 pre{padding: 0;}#sk-container-id-1 div.sk-toggleable {background-color: white;}#sk-container-id-1 label.sk-toggleable__label {cursor: pointer;display: block;width: 100%;margin-bottom: 0;padding: 0.3em;box-sizing: border-box;text-align: center;}#sk-container-id-1 label.sk-toggleable__label-arrow:before {content: \"▸\";float: left;margin-right: 0.25em;color: #696969;}#sk-container-id-1 label.sk-toggleable__label-arrow:hover:before {color: black;}#sk-container-id-1 div.sk-estimator:hover label.sk-toggleable__label-arrow:before {color: black;}#sk-container-id-1 div.sk-toggleable__content {max-height: 0;max-width: 0;overflow: hidden;text-align: left;background-color: #f0f8ff;}#sk-container-id-1 div.sk-toggleable__content pre {margin: 0.2em;color: black;border-radius: 0.25em;background-color: #f0f8ff;}#sk-container-id-1 input.sk-toggleable__control:checked~div.sk-toggleable__content {max-height: 200px;max-width: 100%;overflow: auto;}#sk-container-id-1 input.sk-toggleable__control:checked~label.sk-toggleable__label-arrow:before {content: \"▾\";}#sk-container-id-1 div.sk-estimator input.sk-toggleable__control:checked~label.sk-toggleable__label {background-color: #d4ebff;}#sk-container-id-1 div.sk-label input.sk-toggleable__control:checked~label.sk-toggleable__label {background-color: #d4ebff;}#sk-container-id-1 input.sk-hidden--visually {border: 0;clip: rect(1px 1px 1px 1px);clip: rect(1px, 1px, 1px, 1px);height: 1px;margin: -1px;overflow: hidden;padding: 0;position: absolute;width: 1px;}#sk-container-id-1 div.sk-estimator {font-family: monospace;background-color: #f0f8ff;border: 1px dotted black;border-radius: 0.25em;box-sizing: border-box;margin-bottom: 0.5em;}#sk-container-id-1 div.sk-estimator:hover {background-color: #d4ebff;}#sk-container-id-1 div.sk-parallel-item::after {content: \"\";width: 100%;border-bottom: 1px solid gray;flex-grow: 1;}#sk-container-id-1 div.sk-label:hover label.sk-toggleable__label {background-color: #d4ebff;}#sk-container-id-1 div.sk-serial::before {content: \"\";position: absolute;border-left: 1px solid gray;box-sizing: border-box;top: 0;bottom: 0;left: 50%;z-index: 0;}#sk-container-id-1 div.sk-serial {display: flex;flex-direction: column;align-items: center;background-color: white;padding-right: 0.2em;padding-left: 0.2em;position: relative;}#sk-container-id-1 div.sk-item {position: relative;z-index: 1;}#sk-container-id-1 div.sk-parallel {display: flex;align-items: stretch;justify-content: center;background-color: white;position: relative;}#sk-container-id-1 div.sk-item::before, #sk-container-id-1 div.sk-parallel-item::before {content: \"\";position: absolute;border-left: 1px solid gray;box-sizing: border-box;top: 0;bottom: 0;left: 50%;z-index: -1;}#sk-container-id-1 div.sk-parallel-item {display: flex;flex-direction: column;z-index: 1;position: relative;background-color: white;}#sk-container-id-1 div.sk-parallel-item:first-child::after {align-self: flex-end;width: 50%;}#sk-container-id-1 div.sk-parallel-item:last-child::after {align-self: flex-start;width: 50%;}#sk-container-id-1 div.sk-parallel-item:only-child::after {width: 0;}#sk-container-id-1 div.sk-dashed-wrapped {border: 1px dashed gray;margin: 0 0.4em 0.5em 0.4em;box-sizing: border-box;padding-bottom: 0.4em;background-color: white;}#sk-container-id-1 div.sk-label label {font-family: monospace;font-weight: bold;display: inline-block;line-height: 1.2em;}#sk-container-id-1 div.sk-label-container {text-align: center;}#sk-container-id-1 div.sk-container {/* jupyter's `normalize.less` sets `[hidden] { display: none; }` but bootstrap.min.css set `[hidden] { display: none !important; }` so we also need the `!important` here to be able to override the default hidden behavior on the sphinx rendered scikit-learn.org. See: https://github.com/scikit-learn/scikit-learn/issues/21755 */display: inline-block !important;position: relative;}#sk-container-id-1 div.sk-text-repr-fallback {display: none;}</style><div id=\"sk-container-id-1\" class=\"sk-top-container\"><div class=\"sk-text-repr-fallback\"><pre>SVC()</pre><b>In a Jupyter environment, please rerun this cell to show the HTML representation or trust the notebook. <br />On GitHub, the HTML representation is unable to render, please try loading this page with nbviewer.org.</b></div><div class=\"sk-container\" hidden><div class=\"sk-item\"><div class=\"sk-estimator sk-toggleable\"><input class=\"sk-toggleable__control sk-hidden--visually\" id=\"sk-estimator-id-1\" type=\"checkbox\" checked><label for=\"sk-estimator-id-1\" class=\"sk-toggleable__label sk-toggleable__label-arrow\">SVC</label><div class=\"sk-toggleable__content\"><pre>SVC()</pre></div></div></div></div></div>"
      ],
      "text/plain": [
       "SVC()"
      ]
     },
     "execution_count": 20,
     "metadata": {},
     "output_type": "execute_result"
    }
   ],
   "source": [
    "svm_classifier = SVC()\n",
    "svm_classifier.fit(X_train_2d, y_train) "
   ]
  },
  {
   "cell_type": "code",
   "execution_count": 21,
   "metadata": {
    "executionInfo": {
     "elapsed": 133991,
     "status": "ok",
     "timestamp": 1710426087547,
     "user": {
      "displayName": "Bulliraju Ganta",
      "userId": "04516403868490371873"
     },
     "user_tz": -330
    },
    "id": "qTTA0nHyNNBZ"
   },
   "outputs": [],
   "source": [
    "# Predicition on test data\n",
    "svm_predictions = svm_classifier.predict(X_test_2d) "
   ]
  },
  {
   "cell_type": "code",
   "execution_count": 22,
   "metadata": {
    "colab": {
     "base_uri": "https://localhost:8080/"
    },
    "executionInfo": {
     "elapsed": 117794,
     "status": "ok",
     "timestamp": 1710426205312,
     "user": {
      "displayName": "Bulliraju Ganta",
      "userId": "04516403868490371873"
     },
     "user_tz": -330
    },
    "id": "jq5sojdZYNVr",
    "outputId": "8cbc5278-ab80-482f-f765-5ff24d882736"
   },
   "outputs": [
    {
     "name": "stdout",
     "output_type": "stream",
     "text": [
      "[7 2 1 ... 4 5 6]\n"
     ]
    }
   ],
   "source": [
    "# Assuming X_test is a 3D array, you can flatten it using numpy\n",
    "flattened_X_test = X_test.reshape(X_test.shape[0], -1)\n",
    "\n",
    "# Make predictions on the flattened test set\n",
    "svm_predictions = svm_classifier.predict(flattened_X_test)\n",
    "\n",
    "# Print the predicted labels\n",
    "print(svm_predictions)"
   ]
  },
  {
   "cell_type": "code",
   "execution_count": 23,
   "metadata": {
    "colab": {
     "base_uri": "https://localhost:8080/"
    },
    "executionInfo": {
     "elapsed": 51,
     "status": "ok",
     "timestamp": 1710426205313,
     "user": {
      "displayName": "Bulliraju Ganta",
      "userId": "04516403868490371873"
     },
     "user_tz": -330
    },
    "id": "eaoB55ivNM0p",
    "outputId": "23d98741-7645-4bf9-fbd4-fd620db348da"
   },
   "outputs": [
    {
     "data": {
      "text/plain": [
       "array([[[0, 0, 0, ..., 0, 0, 0],\n",
       "        [0, 0, 0, ..., 0, 0, 0],\n",
       "        [0, 0, 0, ..., 0, 0, 0],\n",
       "        ...,\n",
       "        [0, 0, 0, ..., 0, 0, 0],\n",
       "        [0, 0, 0, ..., 0, 0, 0],\n",
       "        [0, 0, 0, ..., 0, 0, 0]],\n",
       "\n",
       "       [[0, 0, 0, ..., 0, 0, 0],\n",
       "        [0, 0, 0, ..., 0, 0, 0],\n",
       "        [0, 0, 0, ..., 0, 0, 0],\n",
       "        ...,\n",
       "        [0, 0, 0, ..., 0, 0, 0],\n",
       "        [0, 0, 0, ..., 0, 0, 0],\n",
       "        [0, 0, 0, ..., 0, 0, 0]],\n",
       "\n",
       "       [[0, 0, 0, ..., 0, 0, 0],\n",
       "        [0, 0, 0, ..., 0, 0, 0],\n",
       "        [0, 0, 0, ..., 0, 0, 0],\n",
       "        ...,\n",
       "        [0, 0, 0, ..., 0, 0, 0],\n",
       "        [0, 0, 0, ..., 0, 0, 0],\n",
       "        [0, 0, 0, ..., 0, 0, 0]],\n",
       "\n",
       "       ...,\n",
       "\n",
       "       [[0, 0, 0, ..., 0, 0, 0],\n",
       "        [0, 0, 0, ..., 0, 0, 0],\n",
       "        [0, 0, 0, ..., 0, 0, 0],\n",
       "        ...,\n",
       "        [0, 0, 0, ..., 0, 0, 0],\n",
       "        [0, 0, 0, ..., 0, 0, 0],\n",
       "        [0, 0, 0, ..., 0, 0, 0]],\n",
       "\n",
       "       [[0, 0, 0, ..., 0, 0, 0],\n",
       "        [0, 0, 0, ..., 0, 0, 0],\n",
       "        [0, 0, 0, ..., 0, 0, 0],\n",
       "        ...,\n",
       "        [0, 0, 0, ..., 0, 0, 0],\n",
       "        [0, 0, 0, ..., 0, 0, 0],\n",
       "        [0, 0, 0, ..., 0, 0, 0]],\n",
       "\n",
       "       [[0, 0, 0, ..., 0, 0, 0],\n",
       "        [0, 0, 0, ..., 0, 0, 0],\n",
       "        [0, 0, 0, ..., 0, 0, 0],\n",
       "        ...,\n",
       "        [0, 0, 0, ..., 0, 0, 0],\n",
       "        [0, 0, 0, ..., 0, 0, 0],\n",
       "        [0, 0, 0, ..., 0, 0, 0]]], dtype=uint8)"
      ]
     },
     "execution_count": 23,
     "metadata": {},
     "output_type": "execute_result"
    }
   ],
   "source": [
    "X_test"
   ]
  },
  {
   "cell_type": "code",
   "execution_count": 24,
   "metadata": {
    "colab": {
     "base_uri": "https://localhost:8080/"
    },
    "executionInfo": {
     "elapsed": 46,
     "status": "ok",
     "timestamp": 1710426205313,
     "user": {
      "displayName": "Bulliraju Ganta",
      "userId": "04516403868490371873"
     },
     "user_tz": -330
    },
    "id": "tgqeNt5dXUF1",
    "outputId": "28ba39b3-3324-4dda-84c8-cfc9edcf248a"
   },
   "outputs": [
    {
     "name": "stdout",
     "output_type": "stream",
     "text": [
      "SVM Accuracy: 0.9792\n"
     ]
    }
   ],
   "source": [
    "# Calculate evaluation metrics\n",
    "# Accuracy Score\n",
    "svm_accuracy = accuracy_score(y_test, svm_predictions)\n",
    "\n",
    "# print evaluation metrix\n",
    "print(\"SVM Accuracy:\", svm_accuracy) "
   ]
  },
  {
   "cell_type": "code",
   "execution_count": 25,
   "metadata": {
    "colab": {
     "base_uri": "https://localhost:8080/"
    },
    "executionInfo": {
     "elapsed": 42,
     "status": "ok",
     "timestamp": 1710426205313,
     "user": {
      "displayName": "Bulliraju Ganta",
      "userId": "04516403868490371873"
     },
     "user_tz": -330
    },
    "id": "IUQVdyI0XcjQ",
    "outputId": "c6c32864-c299-46ed-901a-51dbeae10190"
   },
   "outputs": [
    {
     "name": "stdout",
     "output_type": "stream",
     "text": [
      "SVM Precision: 0.9791973966593345\n"
     ]
    }
   ],
   "source": [
    "# Precision Score\n",
    "svm_precision = precision_score(y_test, svm_predictions, average='macro')\n",
    "\n",
    "print(\"SVM Precision:\", svm_precision)"
   ]
  },
  {
   "cell_type": "code",
   "execution_count": 26,
   "metadata": {
    "colab": {
     "base_uri": "https://localhost:8080/"
    },
    "executionInfo": {
     "elapsed": 39,
     "status": "ok",
     "timestamp": 1710426205313,
     "user": {
      "displayName": "Bulliraju Ganta",
      "userId": "04516403868490371873"
     },
     "user_tz": -330
    },
    "id": "9_xFeVgdXgCm",
    "outputId": "53a7ad17-2caf-42e3-f1dc-a0149b7a81f6"
   },
   "outputs": [
    {
     "name": "stdout",
     "output_type": "stream",
     "text": [
      "SVM Recall: 0.9790919842945065\n"
     ]
    }
   ],
   "source": [
    "# Recall Score\n",
    "svm_recall = recall_score(y_test, svm_predictions, average='macro')\n",
    "\n",
    "print(\"SVM Recall:\", svm_recall)"
   ]
  },
  {
   "cell_type": "code",
   "execution_count": 27,
   "metadata": {
    "colab": {
     "base_uri": "https://localhost:8080/"
    },
    "executionInfo": {
     "elapsed": 37,
     "status": "ok",
     "timestamp": 1710426205313,
     "user": {
      "displayName": "Bulliraju Ganta",
      "userId": "04516403868490371873"
     },
     "user_tz": -330
    },
    "id": "9jwi_WF3Xcft",
    "outputId": "75792dbe-49a6-44bb-94f3-44cc738128ff"
   },
   "outputs": [
    {
     "name": "stdout",
     "output_type": "stream",
     "text": [
      "SVM F1 Score: 0.9791298259748042\n"
     ]
    }
   ],
   "source": [
    "# F1 Score\n",
    "svm_f1 = f1_score(y_test, svm_predictions, average='macro')\n",
    "\n",
    "print(\"SVM F1 Score:\", svm_f1) "
   ]
  },
  {
   "cell_type": "code",
   "execution_count": 28,
   "metadata": {
    "colab": {
     "base_uri": "https://localhost:8080/"
    },
    "executionInfo": {
     "elapsed": 36,
     "status": "ok",
     "timestamp": 1710426205314,
     "user": {
      "displayName": "Bulliraju Ganta",
      "userId": "04516403868490371873"
     },
     "user_tz": -330
    },
    "id": "L96ohRDeaoXe",
    "outputId": "2113218e-14c6-44b7-a708-ec932bd79a7a"
   },
   "outputs": [
    {
     "name": "stdout",
     "output_type": "stream",
     "text": [
      "SVM Confusion Matrix:\n",
      "[[ 973    0    1    0    0    2    1    1    2    0]\n",
      " [   0 1126    3    1    0    1    1    1    2    0]\n",
      " [   6    1 1006    2    1    0    2    7    6    1]\n",
      " [   0    0    2  995    0    2    0    5    5    1]\n",
      " [   0    0    5    0  961    0    3    0    2   11]\n",
      " [   2    0    0    9    0  871    4    1    4    1]\n",
      " [   6    2    0    0    2    3  944    0    1    0]\n",
      " [   0    6   11    1    1    0    0  996    2   11]\n",
      " [   3    0    2    6    3    2    2    3  950    3]\n",
      " [   3    4    1    7   10    2    1    7    4  970]]\n"
     ]
    }
   ],
   "source": [
    "# confusion matrix\n",
    "from sklearn.metrics import confusion_matrix\n",
    "svm_confusion = confusion_matrix(y_test, svm_predictions)\n",
    "\n",
    "print(\"SVM Confusion Matrix:\")\n",
    "print(svm_confusion)"
   ]
  },
  {
   "cell_type": "code",
   "execution_count": 29,
   "metadata": {
    "colab": {
     "base_uri": "https://localhost:8080/"
    },
    "executionInfo": {
     "elapsed": 35,
     "status": "ok",
     "timestamp": 1710426205314,
     "user": {
      "displayName": "Bulliraju Ganta",
      "userId": "04516403868490371873"
     },
     "user_tz": -330
    },
    "id": "jqQLIDTkYBtt",
    "outputId": "5eeb350b-992d-4f53-9570-d98927be8f9d"
   },
   "outputs": [
    {
     "name": "stdout",
     "output_type": "stream",
     "text": [
      "SVM Classification Report:\n",
      "              precision    recall  f1-score   support\n",
      "\n",
      "           0       0.98      0.99      0.99       980\n",
      "           1       0.99      0.99      0.99      1135\n",
      "           2       0.98      0.97      0.98      1032\n",
      "           3       0.97      0.99      0.98      1010\n",
      "           4       0.98      0.98      0.98       982\n",
      "           5       0.99      0.98      0.98       892\n",
      "           6       0.99      0.99      0.99       958\n",
      "           7       0.98      0.97      0.97      1028\n",
      "           8       0.97      0.98      0.97       974\n",
      "           9       0.97      0.96      0.97      1009\n",
      "\n",
      "    accuracy                           0.98     10000\n",
      "   macro avg       0.98      0.98      0.98     10000\n",
      "weighted avg       0.98      0.98      0.98     10000\n",
      "\n"
     ]
    }
   ],
   "source": [
    "# Classification report\n",
    "from sklearn.metrics import classification_report\n",
    "\n",
    "# Assuming you have y_test and svm_predictions\n",
    "svm_report = classification_report(y_test, svm_predictions)\n",
    "\n",
    "print(\"SVM Classification Report:\")\n",
    "print(svm_report)"
   ]
  },
  {
   "cell_type": "markdown",
   "metadata": {
    "id": "GnEOhvIga-1V"
   },
   "source": [
    "#### Handwritten digit recognition using Support Vector Machine (SVM) algorithms has showcased remarkable success, achieving an impressive 98% accuracy."
   ]
  },
  {
   "cell_type": "markdown",
   "metadata": {
    "id": "bZJFFb20qjOw"
   },
   "source": [
    "# Random Forest"
   ]
  },
  {
   "cell_type": "code",
   "execution_count": 30,
   "metadata": {
    "colab": {
     "base_uri": "https://localhost:8080/",
     "height": 74
    },
    "executionInfo": {
     "elapsed": 49774,
     "status": "ok",
     "timestamp": 1710426255057,
     "user": {
      "displayName": "Bulliraju Ganta",
      "userId": "04516403868490371873"
     },
     "user_tz": -330
    },
    "id": "r6f-XhS6byyw",
    "outputId": "8ec949d8-3399-4596-d9be-cb2b47309cb0"
   },
   "outputs": [
    {
     "data": {
      "text/html": [
       "<style>#sk-container-id-2 {color: black;background-color: white;}#sk-container-id-2 pre{padding: 0;}#sk-container-id-2 div.sk-toggleable {background-color: white;}#sk-container-id-2 label.sk-toggleable__label {cursor: pointer;display: block;width: 100%;margin-bottom: 0;padding: 0.3em;box-sizing: border-box;text-align: center;}#sk-container-id-2 label.sk-toggleable__label-arrow:before {content: \"▸\";float: left;margin-right: 0.25em;color: #696969;}#sk-container-id-2 label.sk-toggleable__label-arrow:hover:before {color: black;}#sk-container-id-2 div.sk-estimator:hover label.sk-toggleable__label-arrow:before {color: black;}#sk-container-id-2 div.sk-toggleable__content {max-height: 0;max-width: 0;overflow: hidden;text-align: left;background-color: #f0f8ff;}#sk-container-id-2 div.sk-toggleable__content pre {margin: 0.2em;color: black;border-radius: 0.25em;background-color: #f0f8ff;}#sk-container-id-2 input.sk-toggleable__control:checked~div.sk-toggleable__content {max-height: 200px;max-width: 100%;overflow: auto;}#sk-container-id-2 input.sk-toggleable__control:checked~label.sk-toggleable__label-arrow:before {content: \"▾\";}#sk-container-id-2 div.sk-estimator input.sk-toggleable__control:checked~label.sk-toggleable__label {background-color: #d4ebff;}#sk-container-id-2 div.sk-label input.sk-toggleable__control:checked~label.sk-toggleable__label {background-color: #d4ebff;}#sk-container-id-2 input.sk-hidden--visually {border: 0;clip: rect(1px 1px 1px 1px);clip: rect(1px, 1px, 1px, 1px);height: 1px;margin: -1px;overflow: hidden;padding: 0;position: absolute;width: 1px;}#sk-container-id-2 div.sk-estimator {font-family: monospace;background-color: #f0f8ff;border: 1px dotted black;border-radius: 0.25em;box-sizing: border-box;margin-bottom: 0.5em;}#sk-container-id-2 div.sk-estimator:hover {background-color: #d4ebff;}#sk-container-id-2 div.sk-parallel-item::after {content: \"\";width: 100%;border-bottom: 1px solid gray;flex-grow: 1;}#sk-container-id-2 div.sk-label:hover label.sk-toggleable__label {background-color: #d4ebff;}#sk-container-id-2 div.sk-serial::before {content: \"\";position: absolute;border-left: 1px solid gray;box-sizing: border-box;top: 0;bottom: 0;left: 50%;z-index: 0;}#sk-container-id-2 div.sk-serial {display: flex;flex-direction: column;align-items: center;background-color: white;padding-right: 0.2em;padding-left: 0.2em;position: relative;}#sk-container-id-2 div.sk-item {position: relative;z-index: 1;}#sk-container-id-2 div.sk-parallel {display: flex;align-items: stretch;justify-content: center;background-color: white;position: relative;}#sk-container-id-2 div.sk-item::before, #sk-container-id-2 div.sk-parallel-item::before {content: \"\";position: absolute;border-left: 1px solid gray;box-sizing: border-box;top: 0;bottom: 0;left: 50%;z-index: -1;}#sk-container-id-2 div.sk-parallel-item {display: flex;flex-direction: column;z-index: 1;position: relative;background-color: white;}#sk-container-id-2 div.sk-parallel-item:first-child::after {align-self: flex-end;width: 50%;}#sk-container-id-2 div.sk-parallel-item:last-child::after {align-self: flex-start;width: 50%;}#sk-container-id-2 div.sk-parallel-item:only-child::after {width: 0;}#sk-container-id-2 div.sk-dashed-wrapped {border: 1px dashed gray;margin: 0 0.4em 0.5em 0.4em;box-sizing: border-box;padding-bottom: 0.4em;background-color: white;}#sk-container-id-2 div.sk-label label {font-family: monospace;font-weight: bold;display: inline-block;line-height: 1.2em;}#sk-container-id-2 div.sk-label-container {text-align: center;}#sk-container-id-2 div.sk-container {/* jupyter's `normalize.less` sets `[hidden] { display: none; }` but bootstrap.min.css set `[hidden] { display: none !important; }` so we also need the `!important` here to be able to override the default hidden behavior on the sphinx rendered scikit-learn.org. See: https://github.com/scikit-learn/scikit-learn/issues/21755 */display: inline-block !important;position: relative;}#sk-container-id-2 div.sk-text-repr-fallback {display: none;}</style><div id=\"sk-container-id-2\" class=\"sk-top-container\"><div class=\"sk-text-repr-fallback\"><pre>RandomForestClassifier()</pre><b>In a Jupyter environment, please rerun this cell to show the HTML representation or trust the notebook. <br />On GitHub, the HTML representation is unable to render, please try loading this page with nbviewer.org.</b></div><div class=\"sk-container\" hidden><div class=\"sk-item\"><div class=\"sk-estimator sk-toggleable\"><input class=\"sk-toggleable__control sk-hidden--visually\" id=\"sk-estimator-id-2\" type=\"checkbox\" checked><label for=\"sk-estimator-id-2\" class=\"sk-toggleable__label sk-toggleable__label-arrow\">RandomForestClassifier</label><div class=\"sk-toggleable__content\"><pre>RandomForestClassifier()</pre></div></div></div></div></div>"
      ],
      "text/plain": [
       "RandomForestClassifier()"
      ]
     },
     "execution_count": 30,
     "metadata": {},
     "output_type": "execute_result"
    }
   ],
   "source": [
    "# Initialize and train the Random Forest model\n",
    "\n",
    "rf_classifier = RandomForestClassifier()\n",
    "-rf_classifier.fit(X_train_2d, y_train)"
   ]
  },
  {
   "cell_type": "code",
   "execution_count": 31,
   "metadata": {
    "executionInfo": {
     "elapsed": 871,
     "status": "ok",
     "timestamp": 1710426255924,
     "user": {
      "displayName": "Bulliraju Ganta",
      "userId": "04516403868490371873"
     },
     "user_tz": -330
    },
    "id": "4DkNHFJPbqn_"
   },
   "outputs": [],
   "source": [
    "# Make predictions on the test data\n",
    "rf_predictions = rf_classifier.predict(X_test_2d)"
   ]
  },
  {
   "cell_type": "code",
   "execution_count": 32,
   "metadata": {
    "colab": {
     "base_uri": "https://localhost:8080/"
    },
    "executionInfo": {
     "elapsed": 27,
     "status": "ok",
     "timestamp": 1710426255925,
     "user": {
      "displayName": "Bulliraju Ganta",
      "userId": "04516403868490371873"
     },
     "user_tz": -330
    },
    "id": "qCOxBF6UqvOq",
    "outputId": "a4258411-3bc9-40d7-f30e-f148ecc8f621"
   },
   "outputs": [
    {
     "name": "stdout",
     "output_type": "stream",
     "text": [
      "Random Forest Accuracy: 0.9698\n"
     ]
    }
   ],
   "source": [
    "# Accuracy Score\n",
    "rf_accuracy = accuracy_score(y_test, rf_predictions)\n",
    "\n",
    "print(\"Random Forest Accuracy:\", rf_accuracy)"
   ]
  },
  {
   "cell_type": "code",
   "execution_count": 33,
   "metadata": {
    "colab": {
     "base_uri": "https://localhost:8080/"
    },
    "executionInfo": {
     "elapsed": 26,
     "status": "ok",
     "timestamp": 1710426255927,
     "user": {
      "displayName": "Bulliraju Ganta",
      "userId": "04516403868490371873"
     },
     "user_tz": -330
    },
    "id": "Qen1xIGIqvKo",
    "outputId": "462518c0-bf88-4119-90dc-c8d666820600"
   },
   "outputs": [
    {
     "name": "stdout",
     "output_type": "stream",
     "text": [
      "Random Forest Precision: 0.9695872767924449\n"
     ]
    }
   ],
   "source": [
    "# Precision Score\n",
    "rf_precision = precision_score(y_test, rf_predictions, average='macro')\n",
    "\n",
    "print(\"Random Forest Precision:\", rf_precision)"
   ]
  },
  {
   "cell_type": "code",
   "execution_count": 34,
   "metadata": {
    "colab": {
     "base_uri": "https://localhost:8080/"
    },
    "executionInfo": {
     "elapsed": 23,
     "status": "ok",
     "timestamp": 1710426255927,
     "user": {
      "displayName": "Bulliraju Ganta",
      "userId": "04516403868490371873"
     },
     "user_tz": -330
    },
    "id": "hvofJkYmqvGF",
    "outputId": "d9c07d8c-f27d-47ab-ff0e-f6a8885006a8"
   },
   "outputs": [
    {
     "name": "stdout",
     "output_type": "stream",
     "text": [
      "Random Forest Recall: 0.9695865083027083\n"
     ]
    }
   ],
   "source": [
    "# Recall Score\n",
    "rf_recall = recall_score(y_test, rf_predictions, average='macro')\n",
    "\n",
    "print(\"Random Forest Recall:\", rf_recall)"
   ]
  },
  {
   "cell_type": "code",
   "execution_count": 35,
   "metadata": {
    "colab": {
     "base_uri": "https://localhost:8080/"
    },
    "executionInfo": {
     "elapsed": 21,
     "status": "ok",
     "timestamp": 1710426255927,
     "user": {
      "displayName": "Bulliraju Ganta",
      "userId": "04516403868490371873"
     },
     "user_tz": -330
    },
    "id": "yMcdP20uqvB5",
    "outputId": "65bbaf92-f216-4506-a4dd-111ea3416e9c"
   },
   "outputs": [
    {
     "name": "stdout",
     "output_type": "stream",
     "text": [
      "Random Forest F1 Score: 0.9695734794142836\n"
     ]
    }
   ],
   "source": [
    "# F1 Score\n",
    "rf_f1 = f1_score(y_test, rf_predictions, average='macro')\n",
    "\n",
    "print(\"Random Forest F1 Score:\", rf_f1)"
   ]
  },
  {
   "cell_type": "code",
   "execution_count": 36,
   "metadata": {
    "colab": {
     "base_uri": "https://localhost:8080/"
    },
    "executionInfo": {
     "elapsed": 18,
     "status": "ok",
     "timestamp": 1710426255927,
     "user": {
      "displayName": "Bulliraju Ganta",
      "userId": "04516403868490371873"
     },
     "user_tz": -330
    },
    "id": "px9eJsC6qu9o",
    "outputId": "d91c8d1f-c0a6-44b1-9c87-2b2329729f8d"
   },
   "outputs": [
    {
     "name": "stdout",
     "output_type": "stream",
     "text": [
      "Random Forest Confusion Matrix:\n",
      "[[ 970    1    0    0    0    2    4    1    2    0]\n",
      " [   0 1123    1    4    0    2    2    1    2    0]\n",
      " [   6    0  995    7    4    1    3    8    8    0]\n",
      " [   0    0    9  976    0    6    0    8    8    3]\n",
      " [   1    0    1    0  956    0    5    0    3   16]\n",
      " [   4    0    1    8    3  863    3    2    5    3]\n",
      " [   6    3    1    0    4    4  935    0    5    0]\n",
      " [   1    3   19    2    0    0    0  992    3    8]\n",
      " [   3    0    5   12    4    6    4    3  927   10]\n",
      " [   6    6    2    9    9    6    1    4    5  961]]\n"
     ]
    }
   ],
   "source": [
    "# Confusion Matrix\n",
    "rf_confusion = confusion_matrix(y_test, rf_predictions)\n",
    "\n",
    "print(\"Random Forest Confusion Matrix:\")\n",
    "print(rf_confusion)"
   ]
  },
  {
   "cell_type": "code",
   "execution_count": 37,
   "metadata": {
    "colab": {
     "base_uri": "https://localhost:8080/"
    },
    "executionInfo": {
     "elapsed": 17,
     "status": "ok",
     "timestamp": 1710426255928,
     "user": {
      "displayName": "Bulliraju Ganta",
      "userId": "04516403868490371873"
     },
     "user_tz": -330
    },
    "id": "1YKvMaa-qu5C",
    "outputId": "7e3a9b9f-bed8-4376-b3dd-a4b94eb374e4"
   },
   "outputs": [
    {
     "name": "stdout",
     "output_type": "stream",
     "text": [
      "Random Forest Classification Report:\n",
      "              precision    recall  f1-score   support\n",
      "\n",
      "           0       0.97      0.99      0.98       980\n",
      "           1       0.99      0.99      0.99      1135\n",
      "           2       0.96      0.96      0.96      1032\n",
      "           3       0.96      0.97      0.96      1010\n",
      "           4       0.98      0.97      0.97       982\n",
      "           5       0.97      0.97      0.97       892\n",
      "           6       0.98      0.98      0.98       958\n",
      "           7       0.97      0.96      0.97      1028\n",
      "           8       0.96      0.95      0.95       974\n",
      "           9       0.96      0.95      0.96      1009\n",
      "\n",
      "    accuracy                           0.97     10000\n",
      "   macro avg       0.97      0.97      0.97     10000\n",
      "weighted avg       0.97      0.97      0.97     10000\n",
      "\n"
     ]
    }
   ],
   "source": [
    "# Generate classification report\n",
    "rf_report = classification_report(y_test, rf_predictions)\n",
    "\n",
    "# Print the classification report\n",
    "print(\"Random Forest Classification Report:\")\n",
    "print(rf_report)"
   ]
  },
  {
   "cell_type": "markdown",
   "metadata": {
    "id": "fhjjCPQOrAw_"
   },
   "source": [
    "Handwritten digit recognition using Random Forest algorithms has showcased remarkable success, achieving an impressive 97% accuracy."
   ]
  },
  {
   "cell_type": "markdown",
   "metadata": {
    "id": "cHSOUc3o3NUG"
   },
   "source": [
    "# Using KNN"
   ]
  },
  {
   "cell_type": "code",
   "execution_count": 38,
   "metadata": {
    "executionInfo": {
     "elapsed": 14,
     "status": "ok",
     "timestamp": 1710426255928,
     "user": {
      "displayName": "Bulliraju Ganta",
      "userId": "04516403868490371873"
     },
     "user_tz": -330
    },
    "id": "WiIeprlE15h1"
   },
   "outputs": [],
   "source": [
    "# Flatten the images from 28x28 to 784-dimensional vectors\n",
    "x_train = X_train.reshape(60000, 784)\n",
    "x_test = X_test.reshape(10000, 784)"
   ]
  },
  {
   "cell_type": "code",
   "execution_count": 39,
   "metadata": {
    "executionInfo": {
     "elapsed": 13,
     "status": "ok",
     "timestamp": 1710426255928,
     "user": {
      "displayName": "Bulliraju Ganta",
      "userId": "04516403868490371873"
     },
     "user_tz": -330
    },
    "id": "M2DN_zShGtFj"
   },
   "outputs": [],
   "source": [
    "# Scale the pixel values to the range 0-1\n",
    "x_train = x_train.astype('float32') / 255\n",
    "x_test = x_test.astype('float32') / 255"
   ]
  },
  {
   "cell_type": "code",
   "execution_count": 40,
   "metadata": {
    "colab": {
     "base_uri": "https://localhost:8080/",
     "height": 74
    },
    "executionInfo": {
     "elapsed": 13,
     "status": "ok",
     "timestamp": 1710426255928,
     "user": {
      "displayName": "Bulliraju Ganta",
      "userId": "04516403868490371873"
     },
     "user_tz": -330
    },
    "id": "JRVo0t5TGwWL",
    "outputId": "30b4ea8e-1f2f-4903-d92e-74b338edd063"
   },
   "outputs": [
    {
     "data": {
      "text/html": [
       "<style>#sk-container-id-3 {color: black;background-color: white;}#sk-container-id-3 pre{padding: 0;}#sk-container-id-3 div.sk-toggleable {background-color: white;}#sk-container-id-3 label.sk-toggleable__label {cursor: pointer;display: block;width: 100%;margin-bottom: 0;padding: 0.3em;box-sizing: border-box;text-align: center;}#sk-container-id-3 label.sk-toggleable__label-arrow:before {content: \"▸\";float: left;margin-right: 0.25em;color: #696969;}#sk-container-id-3 label.sk-toggleable__label-arrow:hover:before {color: black;}#sk-container-id-3 div.sk-estimator:hover label.sk-toggleable__label-arrow:before {color: black;}#sk-container-id-3 div.sk-toggleable__content {max-height: 0;max-width: 0;overflow: hidden;text-align: left;background-color: #f0f8ff;}#sk-container-id-3 div.sk-toggleable__content pre {margin: 0.2em;color: black;border-radius: 0.25em;background-color: #f0f8ff;}#sk-container-id-3 input.sk-toggleable__control:checked~div.sk-toggleable__content {max-height: 200px;max-width: 100%;overflow: auto;}#sk-container-id-3 input.sk-toggleable__control:checked~label.sk-toggleable__label-arrow:before {content: \"▾\";}#sk-container-id-3 div.sk-estimator input.sk-toggleable__control:checked~label.sk-toggleable__label {background-color: #d4ebff;}#sk-container-id-3 div.sk-label input.sk-toggleable__control:checked~label.sk-toggleable__label {background-color: #d4ebff;}#sk-container-id-3 input.sk-hidden--visually {border: 0;clip: rect(1px 1px 1px 1px);clip: rect(1px, 1px, 1px, 1px);height: 1px;margin: -1px;overflow: hidden;padding: 0;position: absolute;width: 1px;}#sk-container-id-3 div.sk-estimator {font-family: monospace;background-color: #f0f8ff;border: 1px dotted black;border-radius: 0.25em;box-sizing: border-box;margin-bottom: 0.5em;}#sk-container-id-3 div.sk-estimator:hover {background-color: #d4ebff;}#sk-container-id-3 div.sk-parallel-item::after {content: \"\";width: 100%;border-bottom: 1px solid gray;flex-grow: 1;}#sk-container-id-3 div.sk-label:hover label.sk-toggleable__label {background-color: #d4ebff;}#sk-container-id-3 div.sk-serial::before {content: \"\";position: absolute;border-left: 1px solid gray;box-sizing: border-box;top: 0;bottom: 0;left: 50%;z-index: 0;}#sk-container-id-3 div.sk-serial {display: flex;flex-direction: column;align-items: center;background-color: white;padding-right: 0.2em;padding-left: 0.2em;position: relative;}#sk-container-id-3 div.sk-item {position: relative;z-index: 1;}#sk-container-id-3 div.sk-parallel {display: flex;align-items: stretch;justify-content: center;background-color: white;position: relative;}#sk-container-id-3 div.sk-item::before, #sk-container-id-3 div.sk-parallel-item::before {content: \"\";position: absolute;border-left: 1px solid gray;box-sizing: border-box;top: 0;bottom: 0;left: 50%;z-index: -1;}#sk-container-id-3 div.sk-parallel-item {display: flex;flex-direction: column;z-index: 1;position: relative;background-color: white;}#sk-container-id-3 div.sk-parallel-item:first-child::after {align-self: flex-end;width: 50%;}#sk-container-id-3 div.sk-parallel-item:last-child::after {align-self: flex-start;width: 50%;}#sk-container-id-3 div.sk-parallel-item:only-child::after {width: 0;}#sk-container-id-3 div.sk-dashed-wrapped {border: 1px dashed gray;margin: 0 0.4em 0.5em 0.4em;box-sizing: border-box;padding-bottom: 0.4em;background-color: white;}#sk-container-id-3 div.sk-label label {font-family: monospace;font-weight: bold;display: inline-block;line-height: 1.2em;}#sk-container-id-3 div.sk-label-container {text-align: center;}#sk-container-id-3 div.sk-container {/* jupyter's `normalize.less` sets `[hidden] { display: none; }` but bootstrap.min.css set `[hidden] { display: none !important; }` so we also need the `!important` here to be able to override the default hidden behavior on the sphinx rendered scikit-learn.org. See: https://github.com/scikit-learn/scikit-learn/issues/21755 */display: inline-block !important;position: relative;}#sk-container-id-3 div.sk-text-repr-fallback {display: none;}</style><div id=\"sk-container-id-3\" class=\"sk-top-container\"><div class=\"sk-text-repr-fallback\"><pre>KNeighborsClassifier()</pre><b>In a Jupyter environment, please rerun this cell to show the HTML representation or trust the notebook. <br />On GitHub, the HTML representation is unable to render, please try loading this page with nbviewer.org.</b></div><div class=\"sk-container\" hidden><div class=\"sk-item\"><div class=\"sk-estimator sk-toggleable\"><input class=\"sk-toggleable__control sk-hidden--visually\" id=\"sk-estimator-id-3\" type=\"checkbox\" checked><label for=\"sk-estimator-id-3\" class=\"sk-toggleable__label sk-toggleable__label-arrow\">KNeighborsClassifier</label><div class=\"sk-toggleable__content\"><pre>KNeighborsClassifier()</pre></div></div></div></div></div>"
      ],
      "text/plain": [
       "KNeighborsClassifier()"
      ]
     },
     "execution_count": 40,
     "metadata": {},
     "output_type": "execute_result"
    }
   ],
   "source": [
    "# Create a KNN classifier with a suitable number of neighbors\n",
    "knn = KNeighborsClassifier(n_neighbors=5)\n",
    "\n",
    "# Train the classifier on the training data\n",
    "knn.fit(X_train_2d, y_train)\n"
   ]
  },
  {
   "cell_type": "code",
   "execution_count": 41,
   "metadata": {
    "executionInfo": {
     "elapsed": 46302,
     "status": "ok",
     "timestamp": 1710426302219,
     "user": {
      "displayName": "Bulliraju Ganta",
      "userId": "04516403868490371873"
     },
     "user_tz": -330
    },
    "id": "_-86aoJvGyYp"
   },
   "outputs": [],
   "source": [
    "# Make predictions on the testing data\n",
    "y_pred = knn.predict(X_test_2d)"
   ]
  },
  {
   "cell_type": "code",
   "execution_count": 42,
   "metadata": {
    "colab": {
     "base_uri": "https://localhost:8080/"
    },
    "executionInfo": {
     "elapsed": 48,
     "status": "ok",
     "timestamp": 1710426302220,
     "user": {
      "displayName": "Bulliraju Ganta",
      "userId": "04516403868490371873"
     },
     "user_tz": -330
    },
    "id": "xgsGT5wOGzYp",
    "outputId": "d947ae09-371c-4fea-c4aa-e88911949416"
   },
   "outputs": [
    {
     "name": "stdout",
     "output_type": "stream",
     "text": [
      "Accuracy: 0.9688\n"
     ]
    }
   ],
   "source": [
    "# Evaluate the accuracy of the model\n",
    "accuracy = accuracy_score(y_test, y_pred)\n",
    "\n",
    "print(\"Accuracy:\", accuracy)\n"
   ]
  },
  {
   "cell_type": "code",
   "execution_count": 43,
   "metadata": {
    "colab": {
     "base_uri": "https://localhost:8080/"
    },
    "executionInfo": {
     "elapsed": 42,
     "status": "ok",
     "timestamp": 1710426302220,
     "user": {
      "displayName": "Bulliraju Ganta",
      "userId": "04516403868490371873"
     },
     "user_tz": -330
    },
    "id": "Jx5_QLpir0Zr",
    "outputId": "5cfa4688-7261-44b5-b36e-a10d83a55516"
   },
   "outputs": [
    {
     "name": "stdout",
     "output_type": "stream",
     "text": [
      "KNN Precision: 0.9692753386570571\n"
     ]
    }
   ],
   "source": [
    "# Precision Score\n",
    "knn_precision = precision_score(y_test, y_pred, average='macro')\n",
    "\n",
    "print('KNN Precision:', knn_precision)"
   ]
  },
  {
   "cell_type": "code",
   "execution_count": 44,
   "metadata": {
    "colab": {
     "base_uri": "https://localhost:8080/"
    },
    "executionInfo": {
     "elapsed": 2,
     "status": "ok",
     "timestamp": 1710426482195,
     "user": {
      "displayName": "Bulliraju Ganta",
      "userId": "04516403868490371873"
     },
     "user_tz": -330
    },
    "id": "Qtwv-FAMr6-b",
    "outputId": "a0167f55-5bc7-4714-cf77-022a23ce2bda"
   },
   "outputs": [
    {
     "name": "stdout",
     "output_type": "stream",
     "text": [
      "KNN Recall: 0.9684705010297703\n"
     ]
    }
   ],
   "source": [
    "# Recall Score\n",
    "knn_recall = recall_score(y_test, y_pred, average='macro')\n",
    "\n",
    "print('KNN Recall:', knn_recall)"
   ]
  },
  {
   "cell_type": "code",
   "execution_count": 45,
   "metadata": {
    "colab": {
     "base_uri": "https://localhost:8080/"
    },
    "executionInfo": {
     "elapsed": 2,
     "status": "ok",
     "timestamp": 1710426484632,
     "user": {
      "displayName": "Bulliraju Ganta",
      "userId": "04516403868490371873"
     },
     "user_tz": -330
    },
    "id": "YRHl4UJ5r2cr",
    "outputId": "77555e82-c72d-416a-d25d-ad33ce326fd5"
   },
   "outputs": [
    {
     "name": "stdout",
     "output_type": "stream",
     "text": [
      "KNN F1 Score: 0.9687143421292884\n"
     ]
    }
   ],
   "source": [
    "# F1 score\n",
    "knn_f1 = f1_score(y_test, y_pred, average='macro')\n",
    "\n",
    "print('KNN F1 Score:', knn_f1)"
   ]
  },
  {
   "cell_type": "code",
   "execution_count": 46,
   "metadata": {
    "colab": {
     "base_uri": "https://localhost:8080/"
    },
    "executionInfo": {
     "elapsed": 615,
     "status": "ok",
     "timestamp": 1710426487690,
     "user": {
      "displayName": "Bulliraju Ganta",
      "userId": "04516403868490371873"
     },
     "user_tz": -330
    },
    "id": "NrrzVQu-r0Ll",
    "outputId": "f531405c-77a4-4e92-e500-9665265b0332"
   },
   "outputs": [
    {
     "name": "stdout",
     "output_type": "stream",
     "text": [
      "KNN Confusion Matrix:\n",
      "[[ 974    1    1    0    0    1    2    1    0    0]\n",
      " [   0 1133    2    0    0    0    0    0    0    0]\n",
      " [  11    8  991    2    1    0    1   15    3    0]\n",
      " [   0    3    3  976    1   13    1    6    3    4]\n",
      " [   3    7    0    0  944    0    4    2    1   21]\n",
      " [   5    0    0   12    2  862    4    1    2    4]\n",
      " [   5    3    0    0    3    2  945    0    0    0]\n",
      " [   0   22    4    0    3    0    0  988    0   11]\n",
      " [   8    3    5   13    6   12    5    5  913    4]\n",
      " [   5    7    3    9    7    3    1   10    2  962]]\n"
     ]
    }
   ],
   "source": [
    "# Confusion matrix\n",
    "knn_cm = confusion_matrix(y_test, y_pred)\n",
    "\n",
    "print('KNN Confusion Matrix:')\n",
    "print(knn_cm)"
   ]
  },
  {
   "cell_type": "code",
   "execution_count": 47,
   "metadata": {
    "colab": {
     "base_uri": "https://localhost:8080/"
    },
    "executionInfo": {
     "elapsed": 434,
     "status": "ok",
     "timestamp": 1710426490162,
     "user": {
      "displayName": "Bulliraju Ganta",
      "userId": "04516403868490371873"
     },
     "user_tz": -330
    },
    "id": "rb-jqd1GsFKR",
    "outputId": "d128d388-d43c-431f-dd89-1005999776ed"
   },
   "outputs": [
    {
     "name": "stdout",
     "output_type": "stream",
     "text": [
      "Classification Report:\n",
      "              precision    recall  f1-score   support\n",
      "\n",
      "           0       0.96      0.99      0.98       980\n",
      "           1       0.95      1.00      0.98      1135\n",
      "           2       0.98      0.96      0.97      1032\n",
      "           3       0.96      0.97      0.97      1010\n",
      "           4       0.98      0.96      0.97       982\n",
      "           5       0.97      0.97      0.97       892\n",
      "           6       0.98      0.99      0.98       958\n",
      "           7       0.96      0.96      0.96      1028\n",
      "           8       0.99      0.94      0.96       974\n",
      "           9       0.96      0.95      0.95      1009\n",
      "\n",
      "    accuracy                           0.97     10000\n",
      "   macro avg       0.97      0.97      0.97     10000\n",
      "weighted avg       0.97      0.97      0.97     10000\n",
      "\n"
     ]
    }
   ],
   "source": [
    "# Classification report\n",
    "knn_report = classification_report(y_test, y_pred)\n",
    "\n",
    "print('Classification Report:')\n",
    "print(knn_report)"
   ]
  },
  {
   "cell_type": "markdown",
   "metadata": {
    "id": "0hJzA7GvU0au"
   },
   "source": [
    " Handwritten digit recognition using KNN algorithms has showcased remarkable success, achieving an impressive 97% accuracy."
   ]
  },
  {
   "cell_type": "markdown",
   "metadata": {
    "id": "etpCTxrSFi5V"
   },
   "source": [
    "# Using Decissin Tree"
   ]
  },
  {
   "cell_type": "code",
   "execution_count": 48,
   "metadata": {
    "executionInfo": {
     "elapsed": 14838,
     "status": "ok",
     "timestamp": 1710426511538,
     "user": {
      "displayName": "Bulliraju Ganta",
      "userId": "04516403868490371873"
     },
     "user_tz": -330
    },
    "id": "mg0QHsXvttG6"
   },
   "outputs": [],
   "source": [
    "clf = DecisionTreeClassifier(criterion='gini',max_depth=15,min_samples_leaf=1,min_samples_split=3,splitter='best')\n",
    "  # Set a random state for reproducibility\n",
    "\n",
    "# Train the classifier on the training data\n",
    "clf.fit(x_train, y_train)\n",
    "\n",
    "# Make predictions on the testing data\n",
    "y_pred1 = clf.predict(x_test)\n"
   ]
  },
  {
   "cell_type": "code",
   "execution_count": 49,
   "metadata": {
    "colab": {
     "base_uri": "https://localhost:8080/"
    },
    "executionInfo": {
     "elapsed": 3,
     "status": "ok",
     "timestamp": 1710426511538,
     "user": {
      "displayName": "Bulliraju Ganta",
      "userId": "04516403868490371873"
     },
     "user_tz": -330
    },
    "id": "GTDUgLHttyD6",
    "outputId": "3819794f-2565-479e-b8fc-853574fc50ee"
   },
   "outputs": [
    {
     "name": "stdout",
     "output_type": "stream",
     "text": [
      "Accuracy: 0.9688\n"
     ]
    }
   ],
   "source": [
    "accuracy = accuracy_score(y_test, y_pred)\n",
    "\n",
    "\n",
    "print(\"Accuracy:\", accuracy)\n"
   ]
  },
  {
   "cell_type": "markdown",
   "metadata": {
    "id": "3gnGWpqKU_WI"
   },
   "source": [
    "## By using Decision Tree model we got accuracy of 96.8%"
   ]
  },
  {
   "cell_type": "markdown",
   "metadata": {
    "id": "A3y7UuRKUlEA"
   },
   "source": [
    "# Using CNN"
   ]
  },
  {
   "cell_type": "code",
   "execution_count": 50,
   "metadata": {
    "colab": {
     "base_uri": "https://localhost:8080/"
    },
    "executionInfo": {
     "elapsed": 632,
     "status": "ok",
     "timestamp": 1710426535810,
     "user": {
      "displayName": "Bulliraju Ganta",
      "userId": "04516403868490371873"
     },
     "user_tz": -330
    },
    "id": "p5c94DdHugqE",
    "outputId": "736bc1e0-6b34-4699-8af5-15410c0780db"
   },
   "outputs": [
    {
     "name": "stdout",
     "output_type": "stream",
     "text": [
      "x_train shape: (60000, 28, 28, 1)\n",
      "x_test shape: (10000, 28, 28, 1)\n"
     ]
    },
    {
     "data": {
      "text/plain": [
       "(60000,)"
      ]
     },
     "execution_count": 50,
     "metadata": {},
     "output_type": "execute_result"
    }
   ],
   "source": [
    "#Loading the Data\n",
    "img_rows, img_cols = 28, 28\n",
    "\n",
    "X_train = X_train.reshape(60000, 28, 28, 1)\n",
    "X_test = X_test.reshape(10000, 28, 28, 1)\n",
    "# input_shape = (img_rows, img_cols, 1)\n",
    "\n",
    "# print('input_shape: ', input_shape)\n",
    "print('x_train shape:', X_train.shape)\n",
    "print('x_test shape:', X_test.shape)\n",
    "y_train.shape"
   ]
  },
  {
   "cell_type": "code",
   "execution_count": 51,
   "metadata": {
    "colab": {
     "base_uri": "https://localhost:8080/"
    },
    "executionInfo": {
     "elapsed": 3,
     "status": "ok",
     "timestamp": 1710426537963,
     "user": {
      "displayName": "Bulliraju Ganta",
      "userId": "04516403868490371873"
     },
     "user_tz": -330
    },
    "id": "sFOp-LKPky8J",
    "outputId": "9ebd892c-bac6-4564-b4fb-8408ef04f64b"
   },
   "outputs": [
    {
     "name": "stdout",
     "output_type": "stream",
     "text": [
      "X_train shape: (60000, 28, 28, 1)\n",
      "60000 train samples\n",
      "10000 test samples\n"
     ]
    }
   ],
   "source": [
    "# rescale to have values within 0 - 1 range [0,255] --> [0,1]\n",
    "X_train = X_train.astype('float32')/255\n",
    "X_test = X_test.astype('float32')/255\n",
    "\n",
    "print('X_train shape:', X_train.shape)\n",
    "print(X_train.shape[0], 'train samples')\n",
    "print(X_test.shape[0], 'test samples')"
   ]
  },
  {
   "cell_type": "code",
   "execution_count": 52,
   "metadata": {
    "colab": {
     "base_uri": "https://localhost:8080/"
    },
    "executionInfo": {
     "elapsed": 642,
     "status": "ok",
     "timestamp": 1710426540549,
     "user": {
      "displayName": "Bulliraju Ganta",
      "userId": "04516403868490371873"
     },
     "user_tz": -330
    },
    "id": "9hGVwy_xJ3fv",
    "outputId": "d18fcb0d-7c68-4191-f8ed-3a57ea78ee68"
   },
   "outputs": [
    {
     "name": "stdout",
     "output_type": "stream",
     "text": [
      "Model: \"sequential\"\n",
      "_________________________________________________________________\n",
      " Layer (type)                Output Shape              Param #   \n",
      "=================================================================\n",
      " conv2d (Conv2D)             (None, 28, 28, 32)        320       \n",
      "                                                                 \n",
      " max_pooling2d (MaxPooling2  (None, 14, 14, 32)        0         \n",
      " D)                                                              \n",
      "                                                                 \n",
      " conv2d_1 (Conv2D)           (None, 14, 14, 64)        18496     \n",
      "                                                                 \n",
      " max_pooling2d_1 (MaxPoolin  (None, 7, 7, 64)          0         \n",
      " g2D)                                                            \n",
      "                                                                 \n",
      " flatten (Flatten)           (None, 3136)              0         \n",
      "                                                                 \n",
      " dense (Dense)               (None, 64)                200768    \n",
      "                                                                 \n",
      " dense_1 (Dense)             (None, 10)                650       \n",
      "                                                                 \n",
      "=================================================================\n",
      "Total params: 220234 (860.29 KB)\n",
      "Trainable params: 220234 (860.29 KB)\n",
      "Non-trainable params: 0 (0.00 Byte)\n",
      "_________________________________________________________________\n"
     ]
    }
   ],
   "source": [
    "from tensorflow.keras.models import Sequential\n",
    "from tensorflow.keras.layers import Conv2D, MaxPooling2D, Flatten, Dense, Dropout\n",
    "\n",
    "# build the model object\n",
    "model = Sequential()\n",
    "\n",
    "# CONV_1: add CONV layer with RELU activation and depth = 32 kernels\n",
    "model.add(Conv2D(32, kernel_size=(3, 3), padding='same',activation='relu',input_shape=(28,28,1)))# 'same' in the sense it'll give the shape same as input\n",
    "# POOL_1: downsample the image to choose the best features\n",
    "model.add(MaxPooling2D(pool_size=(2, 2)))\n",
    "\n",
    "# CONV_2: here we increase the depth to 64\n",
    "model.add(Conv2D(64,(3, 3),padding='same', activation='relu'))\n",
    "# POOL_2: more downsampling\n",
    "model.add(MaxPooling2D(pool_size=(2, 2)))\n",
    "\n",
    "# flatten since too many dimensions, we only want a classification output\n",
    "model.add(Flatten())\n",
    "\n",
    "# FC_1: fully connected to get all relevant data\n",
    "model.add(Dense(64, activation='relu'))\n",
    "\n",
    "# FC_2: output a softmax to squash the matrix into output probabilities for the 10 classes\n",
    "model.add(Dense(10, activation='softmax'))\n",
    "\n",
    "model.summary()"
   ]
  },
  {
   "cell_type": "code",
   "execution_count": 53,
   "metadata": {
    "executionInfo": {
     "elapsed": 2,
     "status": "ok",
     "timestamp": 1710426541963,
     "user": {
      "displayName": "Bulliraju Ganta",
      "userId": "04516403868490371873"
     },
     "user_tz": -330
    },
    "id": "KSjuOzsRJ4wc"
   },
   "outputs": [],
   "source": [
    "# compile the model\n",
    "model.compile(loss='categorical_crossentropy', optimizer='rmsprop',\n",
    "              metrics=['accuracy'])"
   ]
  },
  {
   "cell_type": "code",
   "execution_count": 54,
   "metadata": {
    "colab": {
     "base_uri": "https://localhost:8080/"
    },
    "executionInfo": {
     "elapsed": 4,
     "status": "ok",
     "timestamp": 1710426542873,
     "user": {
      "displayName": "Bulliraju Ganta",
      "userId": "04516403868490371873"
     },
     "user_tz": -330
    },
    "id": "hFwbSib7kQ0H",
    "outputId": "5ee6a0fb-6b41-4832-c241-f5b5aae4c82e"
   },
   "outputs": [
    {
     "name": "stdout",
     "output_type": "stream",
     "text": [
      "Integer-valued labels:\n"
     ]
    }
   ],
   "source": [
    "from tensorflow.keras.utils import to_categorical\n",
    "num_classes = 10\n",
    "# print first ten (integer-valued) training labels\n",
    "print('Integer-valued labels:')\n",
    "# print(y_train[:10])\n",
    "\n",
    "# one-hot encode the labels\n",
    "# convert class vectors to binary class matrices\n",
    "y_train = to_categorical(y_train, num_classes)\n",
    "y_test = to_categorical(y_test, num_classes)\n"
   ]
  },
  {
   "cell_type": "code",
   "execution_count": 55,
   "metadata": {
    "colab": {
     "base_uri": "https://localhost:8080/"
    },
    "executionInfo": {
     "elapsed": 83486,
     "status": "ok",
     "timestamp": 1710426627589,
     "user": {
      "displayName": "Bulliraju Ganta",
      "userId": "04516403868490371873"
     },
     "user_tz": -330
    },
    "id": "EGcd64uUJ9Cj",
    "outputId": "078017c0-c180-4d90-d8b3-7a35d141ef5f"
   },
   "outputs": [
    {
     "name": "stdout",
     "output_type": "stream",
     "text": [
      "\n",
      "Epoch 1: val_loss improved from inf to 0.04365, saving model to model.weights.best.hdf5\n",
      "938/938 - 64s - loss: 0.1592 - accuracy: 0.9516 - val_loss: 0.0437 - val_accuracy: 0.9852 - 64s/epoch - 68ms/step\n"
     ]
    }
   ],
   "source": [
    "from tensorflow.keras.callbacks import ModelCheckpoint\n",
    "\n",
    "# train the model\n",
    "checkpointer = ModelCheckpoint(filepath='model.weights.best.hdf5', verbose=1,\n",
    "                               save_best_only=True)\n",
    "hist = model.fit(X_train, y_train, batch_size=64, epochs=1,\n",
    "                 validation_data=(X_test, y_test), callbacks=[checkpointer],verbose=2, shuffle=True)\n",
    "\n",
    "\n"
   ]
  },
  {
   "cell_type": "code",
   "execution_count": 56,
   "metadata": {
    "colab": {
     "base_uri": "https://localhost:8080/"
    },
    "executionInfo": {
     "elapsed": 3792,
     "status": "ok",
     "timestamp": 1710426631351,
     "user": {
      "displayName": "Bulliraju Ganta",
      "userId": "04516403868490371873"
     },
     "user_tz": -330
    },
    "id": "ygOBB6g8la3e",
    "outputId": "c818a646-3c09-4b58-afa8-8a91e2ec3705"
   },
   "outputs": [
    {
     "data": {
      "text/plain": [
       "[0.04365437477827072, 0.9851999878883362]"
      ]
     },
     "execution_count": 56,
     "metadata": {},
     "output_type": "execute_result"
    }
   ],
   "source": [
    "score = model.evaluate(X_test, y_test, verbose=0)\n",
    "score\n"
   ]
  },
  {
   "cell_type": "markdown",
   "metadata": {
    "id": "rre9SgYnVJF9"
   },
   "source": [
    "## By using CNN  we got accuracy of 98.25%"
   ]
  },
  {
   "cell_type": "markdown",
   "metadata": {
    "id": "_27hG3_LV4M7"
   },
   "source": [
    "# Summary:\n",
    "\n"
   ]
  },
  {
   "cell_type": "markdown",
   "metadata": {
    "id": "_d42EAU3eCLV"
   },
   "source": [
    "The Summary here we give is as follows;\n",
    "\n",
    "- We trained the model using KNN keeping the neighbourhood points as 5. We got accuracy of 97%.\n",
    "- We Trained the model using decission Tree keeping crterion as gini,max depth of 15,minimum sample leaves as 1,minimum samples as 3 and splitter as best.\n",
    "We got accuracy of 96.8%.\n",
    "- We trained the model using SVM keeping kernel as rbf since we are using image arrays, it'll be working well and gamma as auto. We got accuarcy of 98%.\n",
    "Handwritten digit recognition is a challenging yet pivotal task in the realm of machine learning and computer vision. Various algorithms, such as Support Vector Machines (SVM), Random Forest, Gradient Boosting, k-Nearest Neighbors (k-NN), and Convolutional Neural Networks (CNN), have been employed to tackle this problem, each with its unique strengths and characteristics.\n",
    "\n",
    "SVM demonstrates its efficacy in separating classes by finding the optimal hyperplane, making it a robust choice for linearly separable datasets.This algorithm has showcased remarkable success, achieving an impressive 98% accuracy.\n",
    "\n",
    "Random Forest model excel in handling high-dimensional data, capturing complex patterns, and reducing overfitting by leveraging ensemble methods.\n",
    "This algorithm has showcased remarkable success, achieving an impressive 97% accuracy.\n",
    "\n",
    "\n",
    "k-NN, with its simplicity and intuitive approach, identifies patterns based on similarity measures, making it effective for smaller datasets. However, its performance might be impacted by the curse of dimensionality for larger feature spaces.\n",
    "This algorithm has showcased remarkable success, achieving an impressive 97% accuracy.\n",
    "\n",
    "On the other hand, CNNs have gained immense popularity and achieved remarkable success in image recognition tasks, especially for handwritten digit recognition. Their ability to automatically learn hierarchical representations of features from raw pixel data through convolutional layers makes them highly suitable for capturing spatial dependencies and intricate patterns within images.\n",
    "This algorithm has showcased remarkable success, achieving an impressive 97% accuracy.\n",
    "\n",
    "\n",
    "\n",
    "\n",
    "\n",
    "\n",
    "- The network begins with a sequence of two convolutional layers, followed by max pooling layers.\n",
    "- The final layer has one entry for each object class in the dataset, and has a softmax activation function, so that it returns probabilities.\n",
    "- The Conv2D depth increases from the input layer of 1 to 32 to 64.\n",
    "- We also want to decrease the height and width - This is where maxpooling comes in. Notice that the image dimensions decrease from 28 to 14 after the pooling layer.\n",
    "- You can see that every output shape has **None** in place of the batch-size. This is so as to facilitate changing of batch size at runtime.\n",
    "- Finally, we add one or more fully connected layers to determine what object is contained in the image."
   ]
  },
  {
   "cell_type": "markdown",
   "metadata": {
    "id": "NPlxKOdhhUjH"
   },
   "source": [
    " # Conclusion\n",
    " - We conclude that the best machine learning  model for the given dataset is KNN and Decission Tree of accuracy 97% & 96.8%.\n",
    "Comparing these algorithms for handwritten digit recognition reveals the diversity in their approaches, performance metrics, and computational requirements. While traditional machine learning algorithms like SVM, Random Forest, and k-NN showcase competitiveness, especially for simpler datasets, \"CNNs typically outperform them on complex image classification tasks due to their inherent ability to extract hierarchical features\"."
   ]
  },
  {
   "cell_type": "markdown",
   "metadata": {
    "id": "FyyzF3ONzJRc"
   },
   "source": [
    "# Risks that we faced:\n",
    "\n",
    "- Overfitting- Overfitting occurs when the model learns the training data too well and performs poorly on unseen data. Underfitting occurs when the model is too simple and cannot capture the underlying patterns in the data.\n",
    "- To overcome these challenges, we have used techniques like to see the best depth in the case of decission tree, and number of epochs in the case of using CNN to improve the model's performance.\n",
    "\n",
    "Variability in Handwriting: Handwriting styles can vary significantly among individuals. Factors such as stroke thickness, slant, size, and variability in how digits are written pose challenges in accurately recognizing handwritten digits"
   ]
  },
  {
   "cell_type": "code",
   "execution_count": 56,
   "metadata": {
    "executionInfo": {
     "elapsed": 385,
     "status": "ok",
     "timestamp": 1710426665118,
     "user": {
      "displayName": "Bulliraju Ganta",
      "userId": "04516403868490371873"
     },
     "user_tz": -330
    },
    "id": "Eyu8oBRZyfes"
   },
   "outputs": [],
   "source": []
  }
 ],
 "metadata": {
  "colab": {
   "provenance": []
  },
  "kernelspec": {
   "display_name": "Python 3 (ipykernel)",
   "language": "python",
   "name": "python3"
  },
  "language_info": {
   "codemirror_mode": {
    "name": "ipython",
    "version": 3
   },
   "file_extension": ".py",
   "mimetype": "text/x-python",
   "name": "python",
   "nbconvert_exporter": "python",
   "pygments_lexer": "ipython3",
   "version": "3.9.13"
  }
 },
 "nbformat": 4,
 "nbformat_minor": 1
}
